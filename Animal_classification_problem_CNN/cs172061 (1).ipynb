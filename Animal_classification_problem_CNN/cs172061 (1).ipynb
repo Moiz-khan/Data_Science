{
  "nbformat": 4,
  "nbformat_minor": 0,
  "metadata": {
    "colab": {
      "name": "cs172061.ipynb",
      "provenance": [],
      "collapsed_sections": []
    },
    "kernelspec": {
      "name": "python3",
      "display_name": "Python 3"
    },
    "language_info": {
      "name": "python"
    }
  },
  "cells": [
    {
      "cell_type": "code",
      "metadata": {
        "id": "Ka4to-Fn2O6V"
      },
      "source": [
        "import numpy as np\n",
        "# from keras.datasets import mnist\n",
        "from keras.models import Sequential\n",
        "from keras.layers import Dense, Dropout, Flatten\n",
        "from keras.layers.convolutional import Conv2D, MaxPooling2D\n",
        "from keras.utils import np_utils\n",
        "from keras import backend as K\n",
        "import tensorflow as tf\n",
        "from tensorflow.keras.datasets import cifar10 "
      ],
      "execution_count": 1,
      "outputs": []
    },
    {
      "cell_type": "code",
      "metadata": {
        "id": "gDqlv8HU2hkh"
      },
      "source": [
        "seed = 10\n",
        "np.random.seed(seed)"
      ],
      "execution_count": 2,
      "outputs": []
    },
    {
      "cell_type": "code",
      "metadata": {
        "colab": {
          "base_uri": "https://localhost:8080/"
        },
        "id": "cnY0OSli2iST",
        "outputId": "0d7d5f46-4630-4e41-8482-1a22c60c86fb"
      },
      "source": [
        "(X_train, y_train), (X_test, y_test) = cifar10.load_data()"
      ],
      "execution_count": 3,
      "outputs": [
        {
          "output_type": "stream",
          "text": [
            "Downloading data from https://www.cs.toronto.edu/~kriz/cifar-10-python.tar.gz\n",
            "170500096/170498071 [==============================] - 4s 0us/step\n"
          ],
          "name": "stdout"
        }
      ]
    },
    {
      "cell_type": "code",
      "metadata": {
        "colab": {
          "base_uri": "https://localhost:8080/"
        },
        "id": "g1TITO3G2qd-",
        "outputId": "da9c23e2-2be3-4bcd-d55a-4c9d6c04cbca"
      },
      "source": [
        "y_train = np_utils.to_categorical(y_train)\n",
        "y_test = np_utils.to_categorical(y_test)\n",
        "num_classes = y_test.shape[1]\n",
        "print(num_classes)"
      ],
      "execution_count": 4,
      "outputs": [
        {
          "output_type": "stream",
          "text": [
            "10\n"
          ],
          "name": "stdout"
        }
      ]
    },
    {
      "cell_type": "code",
      "metadata": {
        "colab": {
          "base_uri": "https://localhost:8080/"
        },
        "id": "igcv5mDR2tFX",
        "outputId": "9a156d0c-e9fe-409f-adf7-5d22b15c14c2"
      },
      "source": [
        "class_names=['airplane','automobile','bird','cat','deer','dog','frog','horse','ship','truck']\n",
        "X_train=X_train/255\n",
        "X_test=X_test/255"
      ],
      "execution_count": 5,
      "outputs": [
        {
          "output_type": "execute_result",
          "data": {
            "text/plain": [
              "(10000, 32, 32, 3)"
            ]
          },
          "metadata": {
            "tags": []
          },
          "execution_count": 5
        }
      ]
    },
    {
      "cell_type": "code",
      "metadata": {
        "id": "ELQH3BDs2v2y"
      },
      "source": [
        "X_train = X_train.reshape(X_train.shape[0], 32, 32, 3).astype('float32')\n",
        "X_test = X_test.reshape(X_test.shape[0], 32, 32, 3).astype('float32')"
      ],
      "execution_count": 6,
      "outputs": []
    },
    {
      "cell_type": "code",
      "metadata": {
        "id": "D_nptsrJ21D1"
      },
      "source": [
        "def larger_model():\n",
        "    model = Sequential()\n",
        "    model.add(Conv2D(32, (3, 3), activation='relu',input_shape=(32, 32, 3)))\n",
        "    model.add(Conv2D(32, (3, 3), activation='relu'))\n",
        "    model.add(MaxPooling2D((2, 2)))\n",
        "    model.add(Conv2D(64, (3, 3), activation='relu'))\n",
        "    model.add(Conv2D(64, (3, 3), activation='relu'))\n",
        "    model.add(MaxPooling2D((2, 2)))\n",
        "    model.add(Conv2D(128, (3, 3), activation='relu'))\n",
        "    model.add(Conv2D(128, (3, 3), activation='relu'))\n",
        "    model.add(MaxPooling2D((2, 2),padding='same'))\n",
        "    model.add(Flatten())\n",
        "    model.add(Dense(128, activation='relu'))\n",
        "    model.add(Dense(num_classes, activation='softmax'))\n",
        "\n",
        "    model.compile(loss='categorical_crossentropy', optimizer='adadelta', metrics=['accuracy'])\n",
        "    return model\n"
      ],
      "execution_count": 8,
      "outputs": []
    },
    {
      "cell_type": "code",
      "metadata": {
        "colab": {
          "base_uri": "https://localhost:8080/"
        },
        "id": "QAwo8uuz29Yf",
        "outputId": "a0259c20-b447-4e66-f64b-ab7749005b8b"
      },
      "source": [
        "model = larger_model()\n",
        "# Fit the model\n",
        "model.fit(X_train, y_train, validation_data=(X_test, y_test), epochs=12, batch_size=200, verbose=2)\n",
        "# Final evaluation of the model\n",
        "scores = model.evaluate(X_test, y_test, verbose=0)\n",
        "print(\"LeNet CNN: %.2f%%\" % (100-scores[1]*100))"
      ],
      "execution_count": 9,
      "outputs": [
        {
          "output_type": "stream",
          "text": [
            "Epoch 1/12\n",
            "250/250 - 181s - loss: 2.3024 - accuracy: 0.0858 - val_loss: 2.3022 - val_accuracy: 0.0887\n",
            "Epoch 2/12\n",
            "250/250 - 165s - loss: 2.3018 - accuracy: 0.0910 - val_loss: 2.3016 - val_accuracy: 0.0930\n",
            "Epoch 3/12\n",
            "250/250 - 165s - loss: 2.3012 - accuracy: 0.0959 - val_loss: 2.3010 - val_accuracy: 0.0979\n",
            "Epoch 4/12\n",
            "250/250 - 165s - loss: 2.3007 - accuracy: 0.1003 - val_loss: 2.3004 - val_accuracy: 0.1005\n",
            "Epoch 5/12\n",
            "250/250 - 165s - loss: 2.3001 - accuracy: 0.1044 - val_loss: 2.2998 - val_accuracy: 0.1050\n",
            "Epoch 6/12\n",
            "250/250 - 165s - loss: 2.2995 - accuracy: 0.1087 - val_loss: 2.2992 - val_accuracy: 0.1109\n",
            "Epoch 7/12\n",
            "250/250 - 165s - loss: 2.2989 - accuracy: 0.1154 - val_loss: 2.2986 - val_accuracy: 0.1180\n",
            "Epoch 8/12\n",
            "250/250 - 164s - loss: 2.2982 - accuracy: 0.1225 - val_loss: 2.2978 - val_accuracy: 0.1248\n",
            "Epoch 9/12\n",
            "250/250 - 164s - loss: 2.2975 - accuracy: 0.1282 - val_loss: 2.2970 - val_accuracy: 0.1298\n",
            "Epoch 10/12\n",
            "250/250 - 164s - loss: 2.2966 - accuracy: 0.1336 - val_loss: 2.2960 - val_accuracy: 0.1356\n",
            "Epoch 11/12\n",
            "250/250 - 163s - loss: 2.2956 - accuracy: 0.1390 - val_loss: 2.2950 - val_accuracy: 0.1401\n",
            "Epoch 12/12\n",
            "250/250 - 164s - loss: 2.2944 - accuracy: 0.1423 - val_loss: 2.2937 - val_accuracy: 0.1437\n",
            "LeNet CNN: 85.63%\n"
          ],
          "name": "stdout"
        }
      ]
    },
    {
      "cell_type": "code",
      "metadata": {
        "id": "6S1HFa-l2_F2"
      },
      "source": [
        ""
      ],
      "execution_count": null,
      "outputs": []
    },
    {
      "cell_type": "code",
      "metadata": {
        "id": "scUjKGH-_tpQ"
      },
      "source": [
        ""
      ],
      "execution_count": null,
      "outputs": []
    },
    {
      "cell_type": "code",
      "metadata": {
        "id": "OtyiQUUI_vt1"
      },
      "source": [
        ""
      ],
      "execution_count": null,
      "outputs": []
    }
  ]
}